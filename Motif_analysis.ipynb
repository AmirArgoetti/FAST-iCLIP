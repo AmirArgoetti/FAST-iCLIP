{
 "metadata": {
  "name": ""
 },
 "nbformat": 3,
 "nbformat_minor": 0,
 "worksheets": [
  {
   "cells": [
    {
     "cell_type": "code",
     "collapsed": false,
     "input": [
      "import sys\n",
      "import os\n",
      "import numpy as np\n",
      "import matplotlib.pyplot as plt \n",
      "import pandas as pd\n",
      "import re\n",
      "import cmath\n",
      "import math\n",
      "import glob\n",
      "import subprocess\n",
      "%matplotlib inline\n",
      "import matplotlib\n",
      "matplotlib.rcParams['savefig.dpi'] = 2 * matplotlib.rcParams['savefig.dpi']"
     ],
     "language": "python",
     "metadata": {},
     "outputs": [],
     "prompt_number": 15
    },
    {
     "cell_type": "heading",
     "level": 4,
     "metadata": {},
     "source": [
      "HOMER - gets motifs for CLIP clusters in different transcript regions.\n",
      "\n",
      "USAGE: enter sample name, organism, and motif sizes in the INPUT cell. \n",
      "\n",
      "Sample name should be the name of the subfolder in the Results folder.\n",
      "\n",
      "FUNCTION: looks for HOMER motifs in the 5'UTR, 3'UTR, CDS, and intronic RNA regions bound by the protein.\n",
      "\n",
      "OUTPUT: one folder for each region type in the rawdata folder.\n",
      "\n"
     ]
    },
    {
     "cell_type": "code",
     "collapsed": false,
     "input": [
      "# *** INPUT : Sample to process. Please fill these in\n",
      "sampleName='BetaCatenin_v65' #name of folder\n",
      "org='mm9' #organism, either 'mm9' or 'hg19'\n",
      "orgname='mouse' #either 'human' or 'mouse'\n",
      "lengths='6,8' #desired motif lengths, separated by commas with NO spaces\n",
      "outfilepath=os.getcwd()+'/results/%s/'%sampleName\n",
      "clipperClusters=glob.glob(outfilepath+'/rawdata/*threshold*mergedRT_CLIP_clusters_cleaned.bed')[0]\n",
      "print \"Cluster file to process: %s\"%clipperClusters"
     ],
     "language": "python",
     "metadata": {},
     "outputs": [
      {
       "output_type": "stream",
       "stream": "stdout",
       "text": [
        "Cluster file to process: /arrayAhome/lmartin/CLIP/results/BetaCatenin_v65//rawdata/BetaCatenin_v65_threshold=3_mm9_allreads.mergedRT_CLIP_clusters_cleaned.bed\n"
       ]
      }
     ],
     "prompt_number": 33
    },
    {
     "cell_type": "code",
     "collapsed": false,
     "input": [
      "# - Functions for extracting cluster data associated with gene list - \n",
      "def grep(pattern,filein):\n",
      "    # Usage: Open a file and search all lines for a pattern.\n",
      "    # Input: Pattern to search (gene name) and file name.\n",
      "    # Output: List of lines in a file that have the pattern.\n",
      "    r = []\n",
      "    filein_open = open(filein, 'r')\n",
      "    for line in filein_open:\n",
      "         # print line\n",
      "         if re.search(pattern,line):\n",
      "            r.append(line)\n",
      "    filein_open.close()\n",
      "    return r\n",
      "\n",
      "def extractClusters(geneList,allClusters):\n",
      "    # Usage: Extract a set of CLIPper clusters based on gene name\n",
      "    # Input: Gene list\n",
      "    # Output: Clusters with those genes\n",
      "    extractedClusters = geneList+'clusters.bed'\n",
      "    outfh = open(extractedClusters, 'w')\n",
      "\t# Iterate through each gene name\n",
      "    namesToQuery = np.genfromtxt(geneList,usecols=(0,),delimiter='\\t',dtype='string')\n",
      "    for name in namesToQuery:\n",
      "        # Grep it to the output \n",
      "        store=grep(name.strip(),allClusters)\n",
      "        # If NOT empty, then write to output\n",
      "        if store:\t\t\t\t\n",
      "            outfh.write(''.join(store))\n",
      "    outfh.close()\n",
      "    return extractedClusters\n",
      "\n",
      "# - Functions for running HOMER analysis - \n",
      "def shuffleBedFile(inBed):\n",
      "\t# Usage: Shuffle a bed file (usually used a background file for HOMER analysis) \n",
      "\t# Input: Bedfile\n",
      "\t# Output: SHuffled bedFile\n",
      "\tprogram = 'shuffleBed'\n",
      "\treferenceFile = os.getcwd()+'/docs/%s/%s_transcriptome_collapse_exon.bed'%(org,org)\n",
      "\tgenomeFile = os.getcwd()+'/docs/%s/%s.%s.genome'%(org, orgname, org)\n",
      "\ttry:\n",
      "\t\tshuffledBed = inBed.replace('.bed','_shuffled.bed')\n",
      "\t\toutfh = open(shuffledBed, 'w')\n",
      "\t\tproc = subprocess.Popen([program,'-i',inBed,'-incl',referenceFile,'-g',genomeFile],stdout=outfh)\n",
      "\t\tproc.communicate()\n",
      "\t\treturn shuffledBed\n",
      "\texcept:\n",
      "\t\tprint \"Problem generating shuffled bedfile.\"\n",
      "        \n",
      "def makeBedForHOMER(inBed):\n",
      "    # Usage: This modified the bedfile for processing homer by making the first field a concatenation of chr_start_end\n",
      "\t# Input: Clean bedfile with first 5 field properly assigned\n",
      "\t# Output: Modified bed file with first field chr_start_end, and name excluded \n",
      "    try:\n",
      "        # Make sure bedfile only has 5 fields\n",
      "        print inBed\n",
      "        bedForHOMER=inBed.replace('.bed','_forHOMER.bed')\t\n",
      "        print bedForHOMER\n",
      "        # Open new file\n",
      "        f = open(bedForHOMER, 'w')\n",
      "        with open(inBed, 'r') as infile:\n",
      "            for line in infile:\t\n",
      "                elementList = line.strip().split('\\t')\n",
      "                # Re-write the bed file with chr replaced\n",
      "                f.write('\\t' .join((elementList[0]+'_'+elementList[1]+'_'+elementList[2],elementList[0],elementList[1],elementList[2],elementList[5],'\\n')))\n",
      "        f.close()\n",
      "        return bedForHOMER\n",
      "    except:\n",
      "        print \"Error making bed file for HOMER.\"\n",
      "\n",
      "def runHOMER(inBed,lengths,outDirName):\n",
      "\t# Usage: Run the HOMER motif finding algorithm \n",
      "\t# Input: Bedfile properly modified for HOMER\n",
      "\t# Output: A directory containing the HOMER output files\n",
      "    program='findMotifsGenome.pl'\n",
      "    program2='annotatePeaks.pl'\n",
      "    homerReferenceFile = os.getcwd()+'/docs/%s/%s_transcriptome_collapse_exon.bed'%(org, org)\n",
      "    # Convert the input bedFile into HOMER compatible format\n",
      "    inBedForHOMER=makeBedForHOMER(inBed)\n",
      "    # Get the path of the input file \n",
      "    path,filename=os.path.split(inBedForHOMER)\n",
      "    outDir=path+'/'+outDirName\n",
      "    # Call HOMER, which will generate a directory of files\n",
      "    proc = subprocess.Popen([program,inBedForHOMER,org,outDir,'-rna','-bg',homerReferenceFile, '-len', lengths])\n",
      "    proc.communicate()"
     ],
     "language": "python",
     "metadata": {},
     "outputs": [],
     "prompt_number": 34
    },
    {
     "cell_type": "code",
     "collapsed": false,
     "input": [
      "# Note that we can also read from a custom HOMER read list: SourceData_HOMER_Custom\n",
      "geneLists=['PlotData_ExclusiveBound_5p','PlotData_ExclusiveBound_3p','PlotData_ExclusiveBound_cds','PlotData_ExclusiveBound_Intronic']\n",
      "UTRclusters=[]\n",
      "for geneList in geneLists:\n",
      "    path=outfilepath+'/rawdata/'+geneList\n",
      "    print \"UTR file to process: %s\"%path\n",
      "    clusters=extractClusters(path,clipperClusters)\n",
      "    UTRclusters=UTRclusters+[clusters]\n",
      "\n",
      "# - Run HOMER on all clusters  - \n",
      "runHOMER(clipperClusters,lengths,'homer_allReads')\n",
      "\n",
      "shuffledReads=shuffleBedFile(clipperClusters)\n",
      "runHOMER(shuffledReads,lengths,'homer_allReads_shuffle')\n",
      "\n",
      "# - Run HOMER on clusters associated with gene lists that show region specific binding - \n",
      "folderNames=['homer_5pUTR','homer_3pUTR','homer_CDS','homer_intronic']\n",
      "i=0\n",
      "for clusterFile in UTRclusters:\n",
      "    runHOMER(clusterFile,lengths,folderNames[i])\n",
      "    i+=1"
     ],
     "language": "python",
     "metadata": {},
     "outputs": [
      {
       "output_type": "stream",
       "stream": "stdout",
       "text": [
        "UTR file to process: /arrayAhome/lmartin/CLIP/results/BetaCatenin_v65//rawdata/PlotData_ExclusiveBound_5p\n",
        "UTR file to process: /arrayAhome/lmartin/CLIP/results/BetaCatenin_v65//rawdata/PlotData_ExclusiveBound_3p"
       ]
      },
      {
       "output_type": "stream",
       "stream": "stdout",
       "text": [
        "\n",
        "UTR file to process: /arrayAhome/lmartin/CLIP/results/BetaCatenin_v65//rawdata/PlotData_ExclusiveBound_cds"
       ]
      },
      {
       "output_type": "stream",
       "stream": "stdout",
       "text": [
        "\n",
        "UTR file to process: /arrayAhome/lmartin/CLIP/results/BetaCatenin_v65//rawdata/PlotData_ExclusiveBound_Intronic"
       ]
      },
      {
       "output_type": "stream",
       "stream": "stdout",
       "text": [
        "\n",
        "/arrayAhome/lmartin/CLIP/results/BetaCatenin_v65//rawdata/BetaCatenin_v65_threshold=3_mm9_allreads.mergedRT_CLIP_clusters_cleaned.bed"
       ]
      }
     ],
     "prompt_number": "*"
    },
    {
     "cell_type": "heading",
     "level": 4,
     "metadata": {},
     "source": [
      "CUSTOM GENE EXTRACTION - gets HOMER motifs and CLIP metagene for genes that have reads falling within a user-specified region. USAGE: input sample name, organism, and length of desired motifs, as well as the start and end region where reads must be found."
     ]
    },
    {
     "cell_type": "code",
     "collapsed": false,
     "input": [
      "# *** INPUT : Sample to process.\n",
      "sampleName='BetaCatenin_v65' #name of folder\n",
      "org='mm9' #organism, either 'mm9' or 'hg19'\n",
      "orgname='mouse' #either 'human' or 'mouse'\n",
      "lengths='6,8'\n",
      "\n",
      "# *** INPUT : Start of region to extract.\n",
      "start=100\n",
      "# *** INPUT : End of region to extract.\n",
      "end=265\n"
     ],
     "language": "python",
     "metadata": {},
     "outputs": []
    },
    {
     "cell_type": "code",
     "collapsed": false,
     "input": [
      "def convertENBLids(inNames):\n",
      "\t# Usage: Converl ENST to ENSG (unique ID) using ENSEMBL annotation file\n",
      "\t# Input: List of ENST IDs\n",
      "\t# Output: List of ENSG IDs\n",
      "\tgenesFile = os.getcwd() + '/docs/%s/%s_ensembl_genes.txt'%(org, org)\n",
      "\tensemblIDfile=np.genfromtxt(genesFile,usecols=(1,12,),delimiter='\\t',dtype='string') # Note that column lookup is zero indexed\n",
      "\ttemp=[]\n",
      "\tfor name in inNames:\n",
      "\t\toutName=ensemblIDfile[ensemblIDfile[:,0]==name,1]\n",
      "\t\ttemp=temp+[outName]\n",
      "\ttemp=np.array(temp)\n",
      "\treturn temp\n",
      "\n",
      "def customGeneExtraction(outfilepath,startIndex,endIndex):\n",
      "    # Extract genes with reads that fall within a specified window \n",
      "    # Input: File path, and coordinates for data selection\n",
      "    # Output: None\n",
      "    \n",
      "    # Extract data from treat matrix\n",
      "    treatMatrixCols=600\n",
      "    treatMatrix=glob.glob(outfilepath+'/rawdata/*treatmatrix.txt')[0]\n",
      "    treatMatrixData=np.genfromtxt(treatMatrix,skip_header=1,usecols=range(1,treatMatrixCols+1),delimiter='\\t',dtype='float')\n",
      "    geneNames=np.loadtxt(treatMatrix,dtype='string',skiprows=1,usecols=(0,),delimiter='\\t')\n",
      "    #print geneNames[0:10]\n",
      "    # pathToNameConversion=os.getcwd() + '/docs/refSeq_to_Ensl_all.txt'\n",
      "    # nameConversionToEnsembl=np.genfromtxt(pathToNameConversion,usecols=(0,1,),delimiter='\\t',dtype='string') # Note that column lookup is zero indexed\n",
      "    \n",
      "    # Convert to ENSG IDs and check for genes in the initial list \n",
      "    geneNames=convertENBLids(geneNames)\n",
      "    masterList = outfilepath+'/rawdata/clipGenes_proteinCoding'\n",
      "    masterNames = np.genfromtxt(masterList,usecols=(0,),delimiter='\\t',dtype='string') # Gene names isolated from Figure 1e\n",
      "    indexer=[]\n",
      "    for geneName in geneNames:\n",
      "        if geneName in masterNames:\n",
      "            indexer=indexer+[1]\n",
      "        else:\n",
      "            indexer=indexer+[0]\n",
      "    indexer=np.array(indexer,dtype=bool)\n",
      "    geneNames=geneNames[indexer]\n",
      "    treatMatrixData=treatMatrixData[indexer,:]\n",
      "    \n",
      "    customData=treatMatrixData[treatMatrixData[:,range(startIndex,endIndex+1)].sum(axis=1) > 0,:]\n",
      "    customNames=geneNames[treatMatrixData[:,range(startIndex,endIndex+1)].sum(axis=1) > 0]\n",
      "    \n",
      "    tosave=outfilepath+'TEMP'\n",
      "    np.savetxt(tosave,customData,fmt=\"%s\")\n",
      "    \n",
      "    treatSums=customData.sum(axis=1)\n",
      "    sortedIndex=list(reversed([i[0] for i in sorted(enumerate(treatSums),key=lambda x:x[1])]))\n",
      "    sortedData=customData[sortedIndex,:]\n",
      "    sortedNames=customNames[sortedIndex]\n",
      "    tosave=outfilepath+'SourceData_CustomGeneExtraction'\n",
      "    np.savetxt(tosave,np.unique(sortedNames),fmt=\"%s\")\n",
      "    return tosave\n",
      "\n",
      "def plotExtractedRegion(sample,plotNum,start,end):\n",
      "    outfilepath=os.getcwd() + '/results/%s/'%sample\n",
      "    # Bed file with protein coding reads\n",
      "    filteredProteinCoding = outfilepath+'/rawdata/clipGenes_proteinCoding_LowFDRreads_centerCoord_snoRNAremoved_miRNAremoved.bed'\n",
      "    averageGraph=outfilepath+'/rawdata/clipGenes_proteinCoding_LowFDRreads_centerCoord_snoRNAremoved_miRNAremoved_cleaned_sorted_UTRs_scaled_cds200_abt0_averageGraph.txt'    \n",
      "    # Number of columns \n",
      "    avgGraphCols=600\n",
      "    avgGraphData=np.loadtxt(averageGraph,skiprows=1,dtype='float',usecols=range(1,avgGraphCols+1))\n",
      "    plt.subplot(1,2,plotNum)\n",
      "    ylimit=max(avgGraphData[1,:])*1.1\n",
      "    plt.plot(avgGraphData[1,:],color='blue',linewidth='1')\n",
      "    plt.ylim(0,ylimit)\n",
      "    plt.vlines(200,0,ylimit,linestyles='dashed')\n",
      "    plt.vlines(400,0,175,linestyles='dashed')\n",
      "    plt.tick_params(axis='x',labelbottom='off') \n",
      "    plt.axvspan(start,end,facecolor='r',alpha=0.5)\n",
      "    plt.tick_params(axis='y',labelsize=5) \n",
      "    plt.title(sample)"
     ],
     "language": "python",
     "metadata": {},
     "outputs": [],
     "prompt_number": "*"
    },
    {
     "cell_type": "code",
     "collapsed": false,
     "input": [
      "# Input: Extract all reads in the region of interest\n",
      "parentpath=os.getcwd()+'/results/%s/'%sampleName\n",
      "pathToCustomFile=customGeneExtraction(parentpath,start,end)\n",
      "\n",
      "# Plot the region\n",
      "plotExtractedRegion(sampleName,1,start,end)\n",
      "\n",
      "# Run HOMER\n",
      "outfilepath=os.getcwd()+'/results/%s/'%sampleName\n",
      "clipperClusters=glob.glob(outfilepath+'/rawdata/*threshold*mergedRT_CLIP_clusters_cleaned.bed')[0]\n",
      "print clipperClusters\n",
      "clusters=extractClusters(pathToCustomFile,clipperClusters)\n",
      "runHOMER(clusters,lengths,'rawdata/homer_custom')"
     ],
     "language": "python",
     "metadata": {},
     "outputs": [
      {
       "output_type": "stream",
       "stream": "stdout",
       "text": [
        "/arrayAhome/lmartin/CLIP/results/BetaCatenin_v65//rawdata/BetaCatenin_v65_threshold=3_mm9_allreads.mergedRT_CLIP_clusters_cleaned.bed\n",
        "/arrayAhome/lmartin/CLIP/results/BetaCatenin_v65/SourceData_CustomGeneExtractionclusters.bed"
       ]
      }
     ],
     "prompt_number": "*"
    },
    {
     "cell_type": "code",
     "collapsed": false,
     "input": [],
     "language": "python",
     "metadata": {},
     "outputs": []
    }
   ],
   "metadata": {}
  }
 ]
}